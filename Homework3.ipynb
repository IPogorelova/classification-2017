{
 "cells": [
  {
   "cell_type": "markdown",
   "metadata": {},
   "source": [
    "# Загрузка базы вопросов ЧГК\n",
    "\n",
    "Нужно загрузить все доступные вопросы и ответы к ним с базы http:///db.chgk.info . Результаты необходимо сохранить в каком-либо формате в форме вопрос-ответ (pickle, sqlite, текстовый файл и т.д.). "
   ]
  },
  {
   "cell_type": "code",
   "execution_count": null,
   "metadata": {
    "collapsed": true
   },
   "outputs": [],
   "source": [
    "import os\n",
    "import codecs\n",
    "import urllib3\n",
    "from bs4 import BeautifulSoup\n",
    "\n",
    "base_url_beginning = 'https://db.chgk.info'\n",
    "base_url_ending = '/last?page='\n",
    "page_count = 40\n",
    "page_num = 1\n",
    "\n",
    "http = urllib3.PoolManager()\n",
    "\n",
    "dir_path = os.path.dirname(os.path.realpath(__file__))\n",
    "\n",
    "text = open('text.txt', 'w', encoding = 'utf-8')\n",
    "\n",
    "for page in range(1, page_count + 1):\n",
    "    page_url = base_url_beginning + base_url_ending + str(page_num)\n",
    "    response = http.request('GET', page_url)\n",
    "    toursSoup = BeautifulSoup(response.data, 'html.parser')\n",
    "    linksSoup = toursSoup.find('table', {'class': 'last_packages'}).findAll('a', {'rel': 'nofollow'})\n",
    "    for linkSoup in linksSoup:\n",
    "        link = linkSoup['href']\n",
    "        full_url = base_url_beginning + link\n",
    "        response = http.request('GET', full_url)\n",
    "        soup = BeautifulSoup(response.data, 'html.parser')\n",
    "        elementsSoup = soup.findAll('div', {'class': 'question'})\n",
    "        questions_list = []\n",
    "        questionsSoup = []\n",
    "        for elementSoup in elementsSoup:\n",
    "            questionsSoup.append(elementSoup.find('p'))\n",
    "        for questionSoup in questionsSoup:\n",
    "            question = questionSoup.text\n",
    "            questions_list.append(question)\n",
    "        answers_list = []\n",
    "        answersSoup = []\n",
    "        for elementSoup in elementsSoup:\n",
    "            answersSoup.append(elementSoup.find('div', {'class': 'collapsible collapsed'}).find('p'))\n",
    "        for answerSoup in answersSoup:\n",
    "            answer = answerSoup.text\n",
    "            answers_list.append(answer)\n",
    "\n",
    "        for i in range(0, len(questions_list)):\n",
    "            text.write(questions_list[i] + '\\n' + answers_list[i] + '\\n''\\n')\n",
    "\n",
    "text.close()\n"
   ]
  },
  {
   "cell_type": "code",
   "execution_count": null,
   "metadata": {
    "collapsed": true
   },
   "outputs": [],
   "source": []
  },
  {
   "cell_type": "code",
   "execution_count": null,
   "metadata": {
    "collapsed": true
   },
   "outputs": [],
   "source": []
  }
 ],
 "metadata": {
  "kernelspec": {
   "display_name": "Python 3",
   "language": "python",
   "name": "python3"
  },
  "language_info": {
   "codemirror_mode": {
    "name": "ipython",
    "version": 3
   },
   "file_extension": ".py",
   "mimetype": "text/x-python",
   "name": "python",
   "nbconvert_exporter": "python",
   "pygments_lexer": "ipython3",
   "version": "3.6.0"
  }
 },
 "nbformat": 4,
 "nbformat_minor": 1
}
