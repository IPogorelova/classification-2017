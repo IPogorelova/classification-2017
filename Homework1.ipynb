{
 "cells": [
  {
   "cell_type": "markdown",
   "metadata": {
    "deletable": true,
    "editable": true
   },
   "source": [
    "# Задание 1\n",
    "\n",
    "[Свертка списка](https://ru.wikipedia.org/wiki/%D0%A1%D0%B2%D1%91%D1%80%D1%82%D0%BA%D0%B0_%D1%81%D0%BF%D0%B8%D1%81%D0%BA%D0%B0) -  это обобщенная операция над списком, c помощью которой можно преобразовать список в единое значение. Например рассмотрим реализации свертки слева и свертки справа (левоассоциативную свертку и правоассоциативную свертку):"
   ]
  },
  {
   "cell_type": "code",
   "execution_count": 2,
   "metadata": {
    "collapsed": true,
    "deletable": true,
    "editable": true
   },
   "outputs": [],
   "source": [
    "def foldl(f, x0, lst):\n",
    "    if not lst:\n",
    "        return x0\n",
    "    return foldl(f, f(x0, lst[0]), lst[1:])\n",
    "\n",
    "def foldr(f, x0, lst):\n",
    "    if not lst:\n",
    "        return x0\n",
    "    return f(lst[0], foldr(f, x0, lst[1:]))"
   ]
  },
  {
   "cell_type": "code",
   "execution_count": 3,
   "metadata": {
    "collapsed": false,
    "deletable": true,
    "editable": true
   },
   "outputs": [
    {
     "data": {
      "text/plain": [
       "6"
      ]
     },
     "execution_count": 3,
     "metadata": {},
     "output_type": "execute_result"
    }
   ],
   "source": [
    "#сумма\n",
    "foldl(lambda x, y: x + y, 0, [1, 2, 3])"
   ]
  },
  {
   "cell_type": "code",
   "execution_count": 4,
   "metadata": {
    "collapsed": false,
    "deletable": true,
    "editable": true
   },
   "outputs": [
    {
     "data": {
      "text/plain": [
       "'123'"
      ]
     },
     "execution_count": 4,
     "metadata": {},
     "output_type": "execute_result"
    }
   ],
   "source": [
    "#конкатенация\n",
    "foldl(lambda x, y: '{}{}'.format(x, y), '', [1, 2, 3])"
   ]
  },
  {
   "cell_type": "code",
   "execution_count": 5,
   "metadata": {
    "collapsed": false,
    "deletable": true,
    "editable": true
   },
   "outputs": [
    {
     "data": {
      "text/plain": [
       "(0.16666666666666666, 1.5)"
      ]
     },
     "execution_count": 5,
     "metadata": {},
     "output_type": "execute_result"
    }
   ],
   "source": [
    "f = lambda x, y: x / y\n",
    "foldl(f, 1, [1, 2, 3]), \\\n",
    "foldr(f, 1, [1, 2, 3])"
   ]
  },
  {
   "cell_type": "markdown",
   "metadata": {
    "deletable": true,
    "editable": true
   },
   "source": [
    "Задача: реализовать foldl через foldr и наоборот. Вместо многоточий нужно вставить выражения, которые бы привели к нужному результату."
   ]
  },
  {
   "cell_type": "code",
   "execution_count": 6,
   "metadata": {
    "collapsed": true,
    "deletable": true,
    "editable": true
   },
   "outputs": [],
   "source": [
    "def foldl2(f, x0, lst):\n",
    "    return foldr(..., ..., lst)(...)"
   ]
  },
  {
   "cell_type": "code",
   "execution_count": 7,
   "metadata": {
    "collapsed": true,
    "deletable": true,
    "editable": true
   },
   "outputs": [],
   "source": [
    "def foldr2(f, x0, lst):\n",
    "    return foldl(..., ..., lst)(...)"
   ]
  },
  {
   "cell_type": "code",
   "execution_count": null,
   "metadata": {
    "collapsed": true
   },
   "outputs": [],
   "source": [
    "#def foldl2(f, x0, lst):\n",
    "    #return foldr(f(lst[0], foldr(f, x0, lst[::-1])), x0, lst)\n",
    "\n",
    "def foldr2(f, x0, lst):\n",
    "    return foldl(f, f(x0, lst[-1]), lst[2:])"
   ]
  },
  {
   "cell_type": "code",
   "execution_count": null,
   "metadata": {
    "collapsed": true
   },
   "outputs": [],
   "source": [
    "foldr2(lambda x, y: x + y, 0, [1, 2, 3])"
   ]
  },
  {
   "cell_type": "markdown",
   "metadata": {
    "deletable": true,
    "editable": true
   },
   "source": [
    "# Задание 2\n",
    "\n",
    "нужно написать функцию, которая принимает две строки и проверяет, входит ли хотя бы одна перестановка второй строки в первую. Например:\n",
    "\n",
    "> a = 'abcrotm'\n",
    "> \n",
    "> b = 'tro'\n",
    "\n",
    "функция def check_inv(a, b) вернет True, так как 'rot' содержится в 'abcrotm'. Нужно подумать как можно более оптимальный алгоритм и оценить его сложность. "
   ]
  },
  {
   "cell_type": "code",
   "execution_count": 8,
   "metadata": {
    "collapsed": true,
    "deletable": true,
    "editable": true
   },
   "outputs": [],
   "source": [
    "def check_inv(a, b):\n",
    "    pass"
   ]
  },
  {
   "cell_type": "code",
   "execution_count": 4,
   "metadata": {
    "collapsed": true
   },
   "outputs": [],
   "source": [
    "a = 'abaac'\n",
    "b = 'caab'"
   ]
  },
  {
   "cell_type": "code",
   "execution_count": 5,
   "metadata": {
    "collapsed": true
   },
   "outputs": [],
   "source": [
    "c = ''\n",
    "  \n",
    "def check_inv(a, b):\n",
    "    result = 1\n",
    "    for m in b:\n",
    "        for n in a:\n",
    "            if m == n:\n",
    "                k = a.index(n)\n",
    "                c = a[k:k + len(b)]\n",
    "                print('c = ', c)\n",
    "                d = b\n",
    "                if len(c) == len(d):\n",
    "                    for i in c:\n",
    "                        check = False\n",
    "                        for j in d:\n",
    "                            print('i = ', i, ' ', 'j = ', j)\n",
    "                            if i == j:\n",
    "                                check = True\n",
    "                                c = c.replace(i, '', 1)\n",
    "                                d = d.replace(j, '', 1)\n",
    "                                # print('c = ', c)\n",
    "                                break\n",
    "                        if check == False:\n",
    "                            break\n",
    "                    result = len(c)\n",
    "                # print('c = ', c)\n",
    "\n",
    "            if result == 0:\n",
    "                print('True')\n",
    "            else:\n",
    "                print('False')"
   ]
  },
  {
   "cell_type": "code",
   "execution_count": 6,
   "metadata": {
    "collapsed": false
   },
   "outputs": [
    {
     "name": "stdout",
     "output_type": "stream",
     "text": [
      "False\n",
      "False\n",
      "False\n",
      "False\n",
      "c =  c\n",
      "False\n",
      "c =  abaa\n",
      "i =  a   j =  c\n",
      "i =  a   j =  a\n",
      "i =  b   j =  c\n",
      "i =  b   j =  a\n",
      "i =  b   j =  b\n",
      "i =  a   j =  c\n",
      "i =  a   j =  a\n",
      "i =  a   j =  c\n",
      "False\n",
      "False\n",
      "c =  abaa\n",
      "i =  a   j =  c\n",
      "i =  a   j =  a\n",
      "i =  b   j =  c\n",
      "i =  b   j =  a\n",
      "i =  b   j =  b\n",
      "i =  a   j =  c\n",
      "i =  a   j =  a\n",
      "i =  a   j =  c\n",
      "False\n",
      "c =  abaa\n",
      "i =  a   j =  c\n",
      "i =  a   j =  a\n",
      "i =  b   j =  c\n",
      "i =  b   j =  a\n",
      "i =  b   j =  b\n",
      "i =  a   j =  c\n",
      "i =  a   j =  a\n",
      "i =  a   j =  c\n",
      "False\n",
      "False\n",
      "c =  abaa\n",
      "i =  a   j =  c\n",
      "i =  a   j =  a\n",
      "i =  b   j =  c\n",
      "i =  b   j =  a\n",
      "i =  b   j =  b\n",
      "i =  a   j =  c\n",
      "i =  a   j =  a\n",
      "i =  a   j =  c\n",
      "False\n",
      "False\n",
      "c =  abaa\n",
      "i =  a   j =  c\n",
      "i =  a   j =  a\n",
      "i =  b   j =  c\n",
      "i =  b   j =  a\n",
      "i =  b   j =  b\n",
      "i =  a   j =  c\n",
      "i =  a   j =  a\n",
      "i =  a   j =  c\n",
      "False\n",
      "c =  abaa\n",
      "i =  a   j =  c\n",
      "i =  a   j =  a\n",
      "i =  b   j =  c\n",
      "i =  b   j =  a\n",
      "i =  b   j =  b\n",
      "i =  a   j =  c\n",
      "i =  a   j =  a\n",
      "i =  a   j =  c\n",
      "False\n",
      "False\n",
      "False\n",
      "c =  baac\n",
      "i =  b   j =  c\n",
      "i =  b   j =  a\n",
      "i =  b   j =  a\n",
      "i =  b   j =  b\n",
      "i =  a   j =  c\n",
      "i =  a   j =  a\n",
      "i =  a   j =  c\n",
      "i =  a   j =  a\n",
      "i =  c   j =  c\n",
      "True\n",
      "True\n",
      "True\n",
      "True\n"
     ]
    }
   ],
   "source": [
    "check_inv(a,b)"
   ]
  },
  {
   "cell_type": "markdown",
   "metadata": {
    "deletable": true,
    "editable": true
   },
   "source": [
    "# Задание 3\n",
    "\n",
    "Реализовать бинарное дерево (класс Tree), в нём методы __repr__, __str__, __iter__ (итерация только по листьям)."
   ]
  },
  {
   "cell_type": "code",
   "execution_count": 2,
   "metadata": {
    "collapsed": false,
    "deletable": true,
    "editable": true
   },
   "outputs": [
    {
     "name": "stdout",
     "output_type": "stream",
     "text": [
      "type: <class '__main__.Tree'> value: 34120\n"
     ]
    }
   ],
   "source": [
    "class Tree:\n",
    "    def __init__(self, value=None, left=None, right=None):\n",
    "        self.left = left\n",
    "        self.right = right\n",
    "        self.value = value\n",
    "\n",
    "    def __iter__(self):\n",
    "        if self.left:\n",
    "            for i in iter(self.left):\n",
    "                yield i\n",
    "        elif self.right:\n",
    "            for j in iter(self.right):\n",
    "                yield j\n",
    "        else:\n",
    "           yield self.value\n",
    "\n",
    "    def __str__(self):\n",
    "        l = ''\n",
    "        r = ''\n",
    "        s = str(self.value)\n",
    "        if self.left:\n",
    "            l = str(self.left)\n",
    "        if self.right:\n",
    "            r = str(self.right)\n",
    "        res = l + r + s\n",
    "        return res\n",
    "\n",
    "\n",
    "    def __repr__(self):\n",
    "        t = str(type(self))\n",
    "        v = str(self)\n",
    "        res = 'type: ' + t + ' ' + 'value: ' + v\n",
    "        res = str(res)\n",
    "        return res\n",
    "\n",
    "\n",
    "tree = Tree(0, Tree(1, Tree(3), Tree(4)),\n",
    "            Tree(2))\n",
    "\n",
    "list(tree) == [3, 4, 2]\n",
    "\n",
    "print(repr(tree))"
   ]
  },
  {
   "cell_type": "markdown",
   "metadata": {
    "collapsed": true,
    "deletable": true,
    "editable": true
   },
   "source": [
    "# Задание 4\n",
    "\n",
    "Реализовать простейший калькулятор математических выражений:\n",
    "- только целые числа\n",
    "- **+**, **\\-**, **\\***, **\\**\n",
    "- скобки"
   ]
  },
  {
   "cell_type": "code",
   "execution_count": 1,
   "metadata": {
    "collapsed": false
   },
   "outputs": [],
   "source": [
    "g_funcs = {}\n",
    "def summ(a, b):\n",
    "     return a+b\n",
    "def sub(a, b):\n",
    "     return b-a\n",
    "def mul(a,b):\n",
    "      return a*b\n",
    "def div(a,b):\n",
    "     return b/a\n",
    "\n",
    "# Проинициализируем словарь, каждый элемент словаря инициализируется как <строковый ключ>:<значение>\n",
    "g_funcs = {'+': summ, '-': sub, '*': mul, '/': div}\n",
    "\n",
    "\n",
    "def infixToPostfix(exp):\n",
    "    stack = []\n",
    "    res = []                            # <--- тут будет храниться postfix выражение\n",
    "    exp = exp.replace(\" \", \"\")          # убираем возможные пробелы в строке\n",
    "    end = False                         # инициализируем переменные для цикла\n",
    "    i = 0\n",
    "    while not end:\n",
    "        c = exp[i]                      # последовательно берем каждый элемент строки\n",
    "        x = None\n",
    "        while c >= '0' and c <='9':        # если попадается цифра, обрабатываем весь блок\n",
    "            if x:\n",
    "                x = x*10 + int(c)       # если много цифр -> получаем число\n",
    "            else:\n",
    "                x = int(c)              # если первая цифра, то читаем ее пока числом\n",
    "            i = i + 1\n",
    "            c = exp[i]\n",
    "\n",
    "        if x:\n",
    "            res.append(x)               # если была найдена цифра, то добавляем ее в результат\n",
    "        if c == ')':                    # если скобка, то добавить в результат символ операции, который хранится в стеке\n",
    "            res.append(stack.pop())\n",
    "        if c in ['+', '-', '/', '*']:   # если попался символ операции в строке, то добавить его в стек\n",
    "            stack.append(c)\n",
    "        i = i + 1\n",
    "        if i >= len(exp):               # все элементы строки обработаны -> выход\n",
    "            end = True\n",
    "    return res\n"
   ]
  },
  {
   "cell_type": "code",
   "execution_count": 14,
   "metadata": {
    "collapsed": true
   },
   "outputs": [],
   "source": [
    "def calc(exp):\n",
    "    exp = infixToPostfix(exp)\n",
    "    funcs = {'+': summ, '-': sub, '*': mul, '/': div}         # объявляем словарь с функциями\n",
    "\n",
    "    x = 0\n",
    "    i = 0\n",
    "\n",
    "    while len(exp) != 1:\n",
    "        c = exp[i]\n",
    "        if all([(c != '+'), (c != '-'), (c != '/'), (c != '*')]):\n",
    "            i = i + 1\n",
    "        else:\n",
    "            exp[i] = funcs[c](exp[i - 1], exp[i - 2])  # выполнить операцию по ключу С\n",
    "            x = exp[i]\n",
    "            del(exp[i-1], exp[i-2])\n",
    "            i = i - 1\n",
    "    return(exp[0])\n"
   ]
  },
  {
   "cell_type": "code",
   "execution_count": 15,
   "metadata": {
    "collapsed": false
   },
   "outputs": [
    {
     "data": {
      "text/plain": [
       "True"
      ]
     },
     "execution_count": 15,
     "metadata": {},
     "output_type": "execute_result"
    }
   ],
   "source": [
    "calc('((2 * (15 - (3 * 4))) - 2)') == 4"
   ]
  },
  {
   "cell_type": "code",
   "execution_count": null,
   "metadata": {
    "collapsed": true
   },
   "outputs": [],
   "source": []
  }
 ],
 "metadata": {
  "kernelspec": {
   "display_name": "Python 3",
   "language": "python",
   "name": "python3"
  },
  "language_info": {
   "codemirror_mode": {
    "name": "ipython",
    "version": 3
   },
   "file_extension": ".py",
   "mimetype": "text/x-python",
   "name": "python",
   "nbconvert_exporter": "python",
   "pygments_lexer": "ipython3",
   "version": "3.6.0"
  }
 },
 "nbformat": 4,
 "nbformat_minor": 0
}
