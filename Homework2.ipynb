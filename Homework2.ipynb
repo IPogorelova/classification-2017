{
 "cells": [
  {
   "cell_type": "code",
   "execution_count": 2,
   "metadata": {
    "collapsed": true
   },
   "outputs": [],
   "source": [
    "import numpy as np\n",
    "import scipy as sp\n",
    "import matplotlib.pyplot as plt\n",
    "import seaborn as sns\n",
    "\n",
    "%matplotlib inline"
   ]
  },
  {
   "cell_type": "markdown",
   "metadata": {},
   "source": [
    "# 1. Работа с массивами NumPy"
   ]
  },
  {
   "cell_type": "code",
   "execution_count": null,
   "metadata": {
    "collapsed": true
   },
   "outputs": [],
   "source": []
  },
  {
   "cell_type": "markdown",
   "metadata": {},
   "source": [
    "**N. Все упражнения ниже нужно делать без использования циклов Python**\n",
    "\n",
    "**1.** Cоздать вектор\n",
    "\n",
    "$$(2, \\frac{2^2}{2}, \\ldots, \\frac{2^{20}}{20})$$\n",
    "\n",
    "Можно использовать функции [np.arange()](http://docs.scipy.org/doc/numpy/reference/generated/numpy.arange.html), [np.ones()](http://docs.scipy.org/doc/numpy/reference/generated/numpy.ones.html)"
   ]
  },
  {
   "cell_type": "code",
   "execution_count": 49,
   "metadata": {
    "collapsed": false
   },
   "outputs": [
    {
     "data": {
      "text/plain": [
       "array([  2.00000000e+00,   2.00000000e+00,   2.66666667e+00,\n",
       "         4.00000000e+00,   6.40000000e+00,   1.06666667e+01,\n",
       "         1.82857143e+01,   3.20000000e+01,   5.68888889e+01,\n",
       "         1.02400000e+02,   1.86181818e+02,   3.41333333e+02,\n",
       "         6.30153846e+02,   1.17028571e+03,   2.18453333e+03,\n",
       "         4.09600000e+03,   7.71011765e+03,   1.45635556e+04,\n",
       "         2.75941053e+04,   5.24288000e+04])"
      ]
     },
     "execution_count": 49,
     "metadata": {},
     "output_type": "execute_result"
    }
   ],
   "source": [
    "a = np.arange(1,21)\n",
    "b = np.arange(1,21)\n",
    "c = np.ones(20,)*2\n",
    "\n",
    "res = pow(c, a)/b\n",
    "\n",
    "res"
   ]
  },
  {
   "cell_type": "markdown",
   "metadata": {},
   "source": [
    "**2.** Посчитать:\n",
    "\n",
    "$$\\sum\\limits_{i=0}^{5}{0.1^{3i}0.2^{4i}}$$\n"
   ]
  },
  {
   "cell_type": "code",
   "execution_count": 50,
   "metadata": {
    "collapsed": false
   },
   "outputs": [
    {
     "name": "stdout",
     "output_type": "stream",
     "text": [
      "c = [[  1.00000000e+00   1.60000000e-06   2.56000000e-12   4.09600000e-18\n",
      "    6.55360000e-24   1.04857600e-29]]\n",
      "1.0000016\n"
     ]
    }
   ],
   "source": [
    "a = np.zeros((1,6))\n",
    "a = a + 0.1\n",
    "b = np.zeros((1,6))\n",
    "b = b + 0.2\n",
    "\n",
    "i_a = np.arange(0,6)*3\n",
    "i_b = np.arange(0,6)*4\n",
    "\n",
    "a = pow(a,i_a)\n",
    "b = pow(b,i_b)\n",
    "c = a*b\n",
    "res = np.sum(c)\n",
    "\n",
    "print('c =', c)\n",
    "print(res)"
   ]
  },
  {
   "cell_type": "markdown",
   "metadata": {},
   "source": [
    "**3.** Создать нулевую матрицe $8 \\times 8$, и заполнить её единицами в шахматном порядке."
   ]
  },
  {
   "cell_type": "code",
   "execution_count": 51,
   "metadata": {
    "collapsed": false
   },
   "outputs": [
    {
     "data": {
      "text/plain": [
       "array([[1, 0, 1, 0, 1, 0, 1, 0],\n",
       "       [0, 1, 0, 1, 0, 1, 0, 1],\n",
       "       [1, 0, 1, 0, 1, 0, 1, 0],\n",
       "       [0, 1, 0, 1, 0, 1, 0, 1],\n",
       "       [1, 0, 1, 0, 1, 0, 1, 0],\n",
       "       [0, 1, 0, 1, 0, 1, 0, 1],\n",
       "       [1, 0, 1, 0, 1, 0, 1, 0],\n",
       "       [0, 1, 0, 1, 0, 1, 0, 1]])"
      ]
     },
     "execution_count": 51,
     "metadata": {},
     "output_type": "execute_result"
    }
   ],
   "source": [
    "A = np.zeros((8,8), dtype=int)\n",
    "A[::2,::2] = 1\n",
    "A[1::2,1::2] = 1\n",
    "\n",
    "A"
   ]
  },
  {
   "cell_type": "markdown",
   "metadata": {},
   "source": [
    "**4.** Есть 5 точек в декартовой системе координат (в виде матрицы $X$ размерностью $5 \\times 2$), сконвертируйте эти точки в полярную систему координат."
   ]
  },
  {
   "cell_type": "code",
   "execution_count": 52,
   "metadata": {
    "collapsed": false
   },
   "outputs": [
    {
     "data": {
      "text/plain": [
       "array([[ 0.84050738,  0.41159368],\n",
       "       [ 0.66205957,  1.39906712],\n",
       "       [ 1.19340534,  0.50163685],\n",
       "       [ 0.85992279,  1.55861464],\n",
       "       [ 0.82215808,  0.02163617]])"
      ]
     },
     "execution_count": 52,
     "metadata": {},
     "output_type": "execute_result"
    }
   ],
   "source": [
    "X = np.random.random((5, 2))\n",
    "\n",
    "x = X[::, 0:1:]\n",
    "y = X[::, 1:2:]\n",
    "\n",
    "r = pow((x+y),0.5)\n",
    "phi = np.arctan(y/x)\n",
    "R = np.column_stack((r, phi))\n",
    "R"
   ]
  },
  {
   "cell_type": "markdown",
   "metadata": {},
   "source": [
    "**5.** Найдите индексы максимального элемента в случайной матрице $10 \\times 10$.\n",
    "\n",
    "Cм. [np.argmax()](http://docs.scipy.org/doc/numpy/reference/generated/numpy.argmax.html)."
   ]
  },
  {
   "cell_type": "code",
   "execution_count": 57,
   "metadata": {
    "collapsed": false
   },
   "outputs": [
    {
     "data": {
      "text/plain": [
       "85"
      ]
     },
     "execution_count": 57,
     "metadata": {},
     "output_type": "execute_result"
    }
   ],
   "source": [
    "X = np.random.random((10, 10))\n",
    "\n",
    "max = np.argmax(X)\n",
    "max"
   ]
  },
  {
   "cell_type": "markdown",
   "metadata": {},
   "source": [
    "**6.** Есть 10 точек ($X$) и ещё одна ($y$). Найти в $X$ ближайшую к $y$ точку."
   ]
  },
  {
   "cell_type": "code",
   "execution_count": 60,
   "metadata": {
    "collapsed": false
   },
   "outputs": [
    {
     "data": {
      "text/plain": [
       "array([ 0.81181469,  0.55050982])"
      ]
     },
     "execution_count": 60,
     "metadata": {},
     "output_type": "execute_result"
    }
   ],
   "source": [
    "X = np.random.random((10, 2))\n",
    "Y = np.random.random((1, 2))\n",
    "\n",
    "x = (X[:,0] - Y[0,0])\n",
    "y = (X[:,1] - Y[0,1])         \n",
    "res = X[np.argmin(np.sqrt(x ** 2 + y ** 2)), :]\n",
    "\n",
    "res"
   ]
  },
  {
   "cell_type": "code",
   "execution_count": null,
   "metadata": {
    "collapsed": true
   },
   "outputs": [],
   "source": []
  },
  {
   "cell_type": "markdown",
   "metadata": {},
   "source": [
    "**7.** Дана функция:\n",
    "\n",
    "$$\n",
    " \\begin{cases}\n",
    "    x^2 + 2x + 6, & x < 0  \\\\\n",
    "    x + 6, & 0 \\le x \\le 2 \\\\\n",
    "    x^2 + 4x - 4, & x \\ge 2\n",
    " \\end{cases}\n",
    "$$\n",
    "\n",
    "Постройте массив из её значений на  $-3 \\le x \\le 3$."
   ]
  },
  {
   "cell_type": "code",
   "execution_count": 41,
   "metadata": {
    "collapsed": false
   },
   "outputs": [
    {
     "data": {
      "text/plain": [
       "array([  9.  ,   8.61,   8.24,   7.89,   7.56,   7.25,   6.96,   6.69,\n",
       "         6.44,   6.21,   6.  ,   5.81,   5.64,   5.49,   5.36,   5.25,\n",
       "         5.16,   5.09,   5.04,   5.01,   5.  ,   5.01,   5.04,   5.09,\n",
       "         5.16,   5.25,   5.36,   5.49,   5.64,   5.81,   6.  ,   6.1 ,\n",
       "         6.2 ,   6.3 ,   6.4 ,   6.5 ,   6.6 ,   6.7 ,   6.8 ,   6.9 ,\n",
       "         7.  ,   7.1 ,   7.2 ,   7.3 ,   7.4 ,   7.5 ,   7.6 ,   7.7 ,\n",
       "         7.8 ,   7.9 ,   8.  ,   8.81,   9.64,  10.49,  11.36,  12.25,\n",
       "        13.16,  14.09,  15.04,  16.01,  17.  ])"
      ]
     },
     "execution_count": 41,
     "metadata": {},
     "output_type": "execute_result"
    }
   ],
   "source": [
    "x = np.arange(-3, 3.001, 0.1)\n",
    "\n",
    "@np.vectorize\n",
    "def f(x):\n",
    "    if x < 0:\n",
    "        return x**2 + 2*x + 6\n",
    "    elif x < 2:\n",
    "        return x + 6\n",
    "    else: \n",
    "        return x**2 + 4*x - 4\n",
    "\n",
    "res = f(x)\n",
    "res"
   ]
  },
  {
   "cell_type": "markdown",
   "metadata": {},
   "source": [
    "**8.** Из каждого элемента матрицы вычесть среднее арифметическое от всех элементов в соответствующей строке (после чего среднее значение каждой строки должно равняться нулю).\n",
    "\n",
    "Cм. [np.mean()](http://docs.scipy.org/doc/numpy/reference/generated/numpy.mean.html)."
   ]
  },
  {
   "cell_type": "code",
   "execution_count": 61,
   "metadata": {
    "collapsed": false
   },
   "outputs": [
    {
     "name": "stdout",
     "output_type": "stream",
     "text": [
      "mean =  [ 0.55171344  0.56972875  0.51388445  0.46144404  0.51703613  0.48539511\n",
      "  0.46256803  0.48945828  0.43997892  0.32872236]\n"
     ]
    },
    {
     "data": {
      "text/plain": [
       "array([[ 0.29836227, -0.55778822,  0.00246262,  0.33435027, -0.4312854 ,\n",
       "        -0.40951108,  0.35590445,  0.17270359,  0.40527867,  0.52672773],\n",
       "       [-0.38714732,  0.06730667,  0.42970487,  0.27946482, -0.35202913,\n",
       "         0.3436924 ,  0.12437332,  0.07885974,  0.10220993,  0.19092269],\n",
       "       [-0.01899643, -0.00761787, -0.00635205, -0.17319017,  0.09565942,\n",
       "         0.45445581, -0.23573145, -0.21575671,  0.03649616,  0.38994825],\n",
       "       [ 0.28116493,  0.29597837, -0.4361275 ,  0.01527677, -0.21730553,\n",
       "        -0.07086916, -0.04566939,  0.20062006, -0.26198375,  0.03342607],\n",
       "       [-0.44281816, -0.28888477,  0.40597496,  0.29883556, -0.42313755,\n",
       "         0.4696594 ,  0.10127334, -0.05482581,  0.43621883, -0.15186401],\n",
       "       [ 0.02904447, -0.1071998 , -0.32036143, -0.20385087, -0.02369486,\n",
       "         0.47737489,  0.13899251, -0.10272322, -0.04907214,  0.19551204],\n",
       "       [-0.30289703, -0.45892774, -0.14168608,  0.53214739,  0.2012159 ,\n",
       "        -0.13244018, -0.23526214, -0.09379326, -0.02420982,  0.4616038 ],\n",
       "       [-0.08067785, -0.31105281, -0.11392727, -0.26677256,  0.40584467,\n",
       "         0.40636292, -0.40643675,  0.16429097, -0.20499475,  0.48201675],\n",
       "       [-0.0894257 , -0.16358735,  0.36322713, -0.21907196, -0.1066095 ,\n",
       "        -0.15709436,  0.10122763, -0.47280099, -0.00306927,  0.32706405],\n",
       "       [-0.47262673, -0.52164503, -0.43605903, -0.09906364,  0.27140981,\n",
       "        -0.45764708, -0.44908149,  0.24072947,  0.0140507 ,  0.37722713]])"
      ]
     },
     "execution_count": 61,
     "metadata": {},
     "output_type": "execute_result"
    }
   ],
   "source": [
    "X = np.random.random((10, 10))\n",
    "\n",
    "mean = np.mean(X, axis = 1)\n",
    "X = X - mean\n",
    "print('mean = ', mean)\n",
    "X"
   ]
  },
  {
   "cell_type": "markdown",
   "metadata": {},
   "source": [
    "**9.** Есть массив из 1000 чисел, полученных из генератора случайных чисел, имеющий нормальное распределение. Посчитайте выборочное среднее и выборочную дисперсию. "
   ]
  },
  {
   "cell_type": "code",
   "execution_count": 30,
   "metadata": {
    "collapsed": false
   },
   "outputs": [
    {
     "name": "stdout",
     "output_type": "stream",
     "text": [
      "M =  4.92453900146 ;  D =  3.86598529224\n"
     ]
    }
   ],
   "source": [
    "X = np.random.normal(loc=5, scale=2., size=1000)\n",
    "\n",
    "M = np.mean(X)\n",
    "sigma = np.std(X)\n",
    "D = sigma**2\n",
    "\n",
    "print('M = ', M, '; ', 'D = ', D)"
   ]
  },
  {
   "cell_type": "markdown",
   "metadata": {},
   "source": [
    "**10.** Создать матрицу:\n",
    "\n",
    "$$\n",
    "\\begin{pmatrix}\n",
    "0 & 1 & 2 & 3 & 4 \\\\\n",
    "1 & 2 & 3 & 4 & 0 \\\\\n",
    "2 & 3 & 4 & 0 & 1 \\\\\n",
    "3 & 4 & 0 & 1 & 2 \\\\\n",
    "4 & 0 & 1 & 2 & 3\n",
    "\\end{pmatrix}\n",
    "$$"
   ]
  },
  {
   "cell_type": "code",
   "execution_count": 48,
   "metadata": {
    "collapsed": false
   },
   "outputs": [
    {
     "data": {
      "text/plain": [
       "array([[ 0.,  1.,  2.,  3.,  4.],\n",
       "       [ 1.,  2.,  3.,  4.,  0.],\n",
       "       [ 2.,  3.,  4.,  0.,  1.],\n",
       "       [ 3.,  4.,  0.,  1.,  2.],\n",
       "       [ 4.,  0.,  1.,  2.,  3.]])"
      ]
     },
     "execution_count": 48,
     "metadata": {},
     "output_type": "execute_result"
    }
   ],
   "source": [
    "X = np.zeros((5,5))\n",
    "\n",
    "X[0:5, :] = np.arange(0,5)\n",
    "X[1, :] = np.roll(X[0, :], -1)\n",
    "X[2, :] = np.roll(X[1, :], -1)\n",
    "X[3, :] = np.roll(X[2, :], -1)\n",
    "X[4, :] = np.roll(X[3, :], -1)\n",
    "\n",
    "X"
   ]
  },
  {
   "cell_type": "code",
   "execution_count": null,
   "metadata": {
    "collapsed": true
   },
   "outputs": [],
   "source": []
  }
 ],
 "metadata": {
  "kernelspec": {
   "display_name": "Python 3",
   "language": "python",
   "name": "python3"
  },
  "language_info": {
   "codemirror_mode": {
    "name": "ipython",
    "version": 3
   },
   "file_extension": ".py",
   "mimetype": "text/x-python",
   "name": "python",
   "nbconvert_exporter": "python",
   "pygments_lexer": "ipython3",
   "version": "3.6.0"
  }
 },
 "nbformat": 4,
 "nbformat_minor": 1
}
